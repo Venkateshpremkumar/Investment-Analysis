{
 "cells": [
  {
   "cell_type": "markdown",
   "metadata": {},
   "source": [
    "# Investment Analysis Assignment\n"
   ]
  },
  {
   "cell_type": "markdown",
   "metadata": {},
   "source": [
    " ## Importing built in libraries"
   ]
  },
  {
   "cell_type": "code",
   "execution_count": 1,
   "metadata": {},
   "outputs": [],
   "source": [
    "import numpy as np\n",
    "import pandas as pd\n",
    "import matplotlib.pyplot as plt\n",
    "import seaborn as sns"
   ]
  },
  {
   "cell_type": "markdown",
   "metadata": {},
   "source": [
    "### Loading  the companies and rounds2 data"
   ]
  },
  {
   "cell_type": "code",
   "execution_count": 2,
   "metadata": {},
   "outputs": [],
   "source": [
    "# Creating the companies dataframe \n",
    "companies = pd.read_csv('companies.txt',sep=\"\\t\",encoding='ISO-8859-1')"
   ]
  },
  {
   "cell_type": "code",
   "execution_count": 3,
   "metadata": {},
   "outputs": [],
   "source": [
    "# Creating the rounds2 dataframe \n",
    "rounds = pd.read_csv('rounds2.csv',encoding='ISO-8859-1')"
   ]
  },
  {
   "cell_type": "markdown",
   "metadata": {},
   "source": [
    "## Checkpoint 1: Data Cleaning 1"
   ]
  },
  {
   "cell_type": "code",
   "execution_count": 4,
   "metadata": {},
   "outputs": [],
   "source": [
    "# Removing the special characters in Permalink and name columns.\n",
    "\n",
    "companies['permalink']=companies[['permalink']].applymap(lambda x: x.encode('utf-8').decode('ascii', 'ignore'))\n",
    "companies['name']=companies.name.str.encode('utf-8').str.decode('ascii', 'ignore')"
   ]
  },
  {
   "cell_type": "code",
   "execution_count": 5,
   "metadata": {},
   "outputs": [],
   "source": [
    "# Removing the special characters in company_permalink and funding_round_permalink columns\n",
    "\n",
    "rounds['company_permalink']=rounds[['company_permalink']].applymap(lambda x: x.encode('utf-8').decode('ascii', 'ignore'))\n",
    "rounds['funding_round_permalink']=rounds[['funding_round_permalink']].applymap(lambda x: x.encode('utf-8').decode('ascii', 'ignore'))"
   ]
  },
  {
   "cell_type": "code",
   "execution_count": 6,
   "metadata": {},
   "outputs": [],
   "source": [
    "# To avoid duplicate entries  of companies permalink\n",
    "companies.permalink = companies.permalink.apply(lambda x: x.lower())\n",
    "companies['name']=companies['name'].str.lower()"
   ]
  },
  {
   "cell_type": "code",
   "execution_count": 7,
   "metadata": {},
   "outputs": [],
   "source": [
    "# To avoid duplicate entries  of company_permalink in round2 and name\n",
    "rounds.company_permalink = rounds.company_permalink.apply(lambda x: x.lower())"
   ]
  },
  {
   "cell_type": "code",
   "execution_count": 8,
   "metadata": {},
   "outputs": [
    {
     "name": "stdout",
     "output_type": "stream",
     "text": [
      "66373\n"
     ]
    }
   ],
   "source": [
    "# How many unique companies are present in rounds2?\n",
    "print(len(rounds.company_permalink.unique()))"
   ]
  },
  {
   "cell_type": "code",
   "execution_count": 9,
   "metadata": {},
   "outputs": [
    {
     "name": "stdout",
     "output_type": "stream",
     "text": [
      "66038\n"
     ]
    }
   ],
   "source": [
    "# How many unique companies are present in companies?\n",
    "print(len(companies.name.unique()))"
   ]
  },
  {
   "cell_type": "markdown",
   "metadata": {},
   "source": [
    "##### In the companies data frame, which column can be used as the unique key for each company? Write the name of the column.\n",
    "    Answer: company name"
   ]
  },
  {
   "cell_type": "markdown",
   "metadata": {},
   "source": [
    "##### Are there any companies in the rounds2 file which are not present in companies? Answer yes or no\n",
    "    Answer: No"
   ]
  },
  {
   "cell_type": "code",
   "execution_count": 10,
   "metadata": {},
   "outputs": [
    {
     "data": {
      "text/html": [
       "<div>\n",
       "<style scoped>\n",
       "    .dataframe tbody tr th:only-of-type {\n",
       "        vertical-align: middle;\n",
       "    }\n",
       "\n",
       "    .dataframe tbody tr th {\n",
       "        vertical-align: top;\n",
       "    }\n",
       "\n",
       "    .dataframe thead th {\n",
       "        text-align: right;\n",
       "    }\n",
       "</style>\n",
       "<table border=\"1\" class=\"dataframe\">\n",
       "  <thead>\n",
       "    <tr style=\"text-align: right;\">\n",
       "      <th></th>\n",
       "      <th>permalink</th>\n",
       "      <th>name</th>\n",
       "      <th>homepage_url</th>\n",
       "      <th>category_list</th>\n",
       "      <th>status</th>\n",
       "      <th>country_code</th>\n",
       "      <th>state_code</th>\n",
       "      <th>region</th>\n",
       "      <th>city</th>\n",
       "      <th>founded_at</th>\n",
       "    </tr>\n",
       "  </thead>\n",
       "  <tbody>\n",
       "    <tr>\n",
       "      <th>729</th>\n",
       "      <td>/organization/abizinabox</td>\n",
       "      <td>abizinabox</td>\n",
       "      <td>http://abizinabox.com</td>\n",
       "      <td>Accounting|Consulting|CRM|Marketing Automation...</td>\n",
       "      <td>operating</td>\n",
       "      <td>USA</td>\n",
       "      <td>IL</td>\n",
       "      <td>Chicago</td>\n",
       "      <td>Evanston</td>\n",
       "      <td>17-08-1998</td>\n",
       "    </tr>\n",
       "    <tr>\n",
       "      <th>3166</th>\n",
       "      <td>/organization/analyte-logic</td>\n",
       "      <td>analyte logic</td>\n",
       "      <td>http://analytelogic.com</td>\n",
       "      <td>Biotechnology</td>\n",
       "      <td>operating</td>\n",
       "      <td>USA</td>\n",
       "      <td>CO</td>\n",
       "      <td>Denver</td>\n",
       "      <td>Denver</td>\n",
       "      <td>01-01-2008</td>\n",
       "    </tr>\n",
       "    <tr>\n",
       "      <th>4568</th>\n",
       "      <td>/organization/asic-engineering-corporation</td>\n",
       "      <td>asic engineering corporation</td>\n",
       "      <td>NaN</td>\n",
       "      <td>Engineering Firms|Services</td>\n",
       "      <td>closed</td>\n",
       "      <td>NaN</td>\n",
       "      <td>NaN</td>\n",
       "      <td>NaN</td>\n",
       "      <td>NaN</td>\n",
       "      <td>NaN</td>\n",
       "    </tr>\n",
       "    <tr>\n",
       "      <th>8097</th>\n",
       "      <td>/organization/boosterville</td>\n",
       "      <td>boosterville</td>\n",
       "      <td>http://www.boosterville.com</td>\n",
       "      <td>K-12 Education|Mobile|Nonprofits|Payments|Soci...</td>\n",
       "      <td>operating</td>\n",
       "      <td>USA</td>\n",
       "      <td>TN</td>\n",
       "      <td>Memphis</td>\n",
       "      <td>Memphis</td>\n",
       "      <td>15-03-2013</td>\n",
       "    </tr>\n",
       "    <tr>\n",
       "      <th>8652</th>\n",
       "      <td>/organization/broadlane</td>\n",
       "      <td>broadlane</td>\n",
       "      <td>NaN</td>\n",
       "      <td>Health and Wellness|Health Care|Medical|Services</td>\n",
       "      <td>operating</td>\n",
       "      <td>NaN</td>\n",
       "      <td>NaN</td>\n",
       "      <td>NaN</td>\n",
       "      <td>NaN</td>\n",
       "      <td>NaN</td>\n",
       "    </tr>\n",
       "    <tr>\n",
       "      <th>9784</th>\n",
       "      <td>/organization/career-athletes</td>\n",
       "      <td>athlete network</td>\n",
       "      <td>http://athletenetwork.com</td>\n",
       "      <td>Brand Marketing|Internet</td>\n",
       "      <td>operating</td>\n",
       "      <td>USA</td>\n",
       "      <td>KS</td>\n",
       "      <td>Kansas City</td>\n",
       "      <td>Kansas City</td>\n",
       "      <td>01-01-2014</td>\n",
       "    </tr>\n",
       "    <tr>\n",
       "      <th>14798</th>\n",
       "      <td>/organization/datanext</td>\n",
       "      <td>wealtharc, inc.</td>\n",
       "      <td>http://www.wealtharc.com</td>\n",
       "      <td>Artificial Intelligence|Big Data Analytics|Clo...</td>\n",
       "      <td>operating</td>\n",
       "      <td>CHE</td>\n",
       "      <td>24</td>\n",
       "      <td>Steinhausen</td>\n",
       "      <td>Steinhausen</td>\n",
       "      <td>18-02-2015</td>\n",
       "    </tr>\n",
       "    <tr>\n",
       "      <th>15384</th>\n",
       "      <td>/organization/detectent</td>\n",
       "      <td>detectent</td>\n",
       "      <td>http://www.detectent.com</td>\n",
       "      <td>Analytics</td>\n",
       "      <td>acquired</td>\n",
       "      <td>USA</td>\n",
       "      <td>CA</td>\n",
       "      <td>San Diego</td>\n",
       "      <td>Escondido</td>\n",
       "      <td>NaN</td>\n",
       "    </tr>\n",
       "    <tr>\n",
       "      <th>16018</th>\n",
       "      <td>/organization/dmc-consulting-group</td>\n",
       "      <td>dmc consulting group</td>\n",
       "      <td>http://dmcconsultinggroup.net/</td>\n",
       "      <td>Networking</td>\n",
       "      <td>operating</td>\n",
       "      <td>USA</td>\n",
       "      <td>TX</td>\n",
       "      <td>Dallas</td>\n",
       "      <td>Dallas</td>\n",
       "      <td>11-11-2013</td>\n",
       "    </tr>\n",
       "    <tr>\n",
       "      <th>16624</th>\n",
       "      <td>/organization/dscovered</td>\n",
       "      <td>dscovered</td>\n",
       "      <td>http://dscovered.com</td>\n",
       "      <td>Design|Internet|Marketplaces</td>\n",
       "      <td>operating</td>\n",
       "      <td>USA</td>\n",
       "      <td>CA</td>\n",
       "      <td>Bakersfield</td>\n",
       "      <td>California City</td>\n",
       "      <td>01-01-2012</td>\n",
       "    </tr>\n",
       "    <tr>\n",
       "      <th>23210</th>\n",
       "      <td>/organization/global-talent-track</td>\n",
       "      <td>global talent track</td>\n",
       "      <td>http://www.gttconnect.com</td>\n",
       "      <td>Corporate Training|EdTech|Education|Informatio...</td>\n",
       "      <td>operating</td>\n",
       "      <td>IND</td>\n",
       "      <td>16</td>\n",
       "      <td>Pune</td>\n",
       "      <td>Pune</td>\n",
       "      <td>01-01-2008</td>\n",
       "    </tr>\n",
       "    <tr>\n",
       "      <th>23518</th>\n",
       "      <td>/organization/golden-spike</td>\n",
       "      <td>golden spike</td>\n",
       "      <td>http://goldenspikecompany.com/</td>\n",
       "      <td>Aerospace</td>\n",
       "      <td>operating</td>\n",
       "      <td>NaN</td>\n",
       "      <td>NaN</td>\n",
       "      <td>NaN</td>\n",
       "      <td>NaN</td>\n",
       "      <td>NaN</td>\n",
       "    </tr>\n",
       "    <tr>\n",
       "      <th>24932</th>\n",
       "      <td>/organization/hc1-com</td>\n",
       "      <td>hc1.com</td>\n",
       "      <td>http://www.hc1.com</td>\n",
       "      <td>Enterprise Software|Software</td>\n",
       "      <td>operating</td>\n",
       "      <td>USA</td>\n",
       "      <td>IN</td>\n",
       "      <td>Indianapolis</td>\n",
       "      <td>Indianapolis</td>\n",
       "      <td>01-01-2001</td>\n",
       "    </tr>\n",
       "    <tr>\n",
       "      <th>27110</th>\n",
       "      <td>/organization/immunomedics</td>\n",
       "      <td>immunomedics</td>\n",
       "      <td>http://immunomedics.com</td>\n",
       "      <td>Biotechnology</td>\n",
       "      <td>ipo</td>\n",
       "      <td>USA</td>\n",
       "      <td>NJ</td>\n",
       "      <td>Newark</td>\n",
       "      <td>Morris Plains</td>\n",
       "      <td>01-07-1982</td>\n",
       "    </tr>\n",
       "    <tr>\n",
       "      <th>31863</th>\n",
       "      <td>/organization/lecere</td>\n",
       "      <td>lecere</td>\n",
       "      <td>http://www.lecere.com</td>\n",
       "      <td>Software</td>\n",
       "      <td>closed</td>\n",
       "      <td>USA</td>\n",
       "      <td>OR</td>\n",
       "      <td>Portland, Oregon</td>\n",
       "      <td>Portland</td>\n",
       "      <td>NaN</td>\n",
       "    </tr>\n",
       "    <tr>\n",
       "      <th>33069</th>\n",
       "      <td>/organization/logical-therapeutics</td>\n",
       "      <td>logical therapeutics</td>\n",
       "      <td>http://www.logicaltx.com</td>\n",
       "      <td>Biotechnology</td>\n",
       "      <td>operating</td>\n",
       "      <td>USA</td>\n",
       "      <td>MA</td>\n",
       "      <td>Boston</td>\n",
       "      <td>Waltham</td>\n",
       "      <td>01-01-2005</td>\n",
       "    </tr>\n",
       "    <tr>\n",
       "      <th>37562</th>\n",
       "      <td>/organization/my-artful-jewels</td>\n",
       "      <td>my artful jewels</td>\n",
       "      <td>NaN</td>\n",
       "      <td>NaN</td>\n",
       "      <td>operating</td>\n",
       "      <td>USA</td>\n",
       "      <td>LA</td>\n",
       "      <td>New Orleans</td>\n",
       "      <td>Slidell</td>\n",
       "      <td>01-05-2010</td>\n",
       "    </tr>\n",
       "    <tr>\n",
       "      <th>37876</th>\n",
       "      <td>/organization/mysource-ltd</td>\n",
       "      <td>mysource ltd</td>\n",
       "      <td>http://www.mysource.io</td>\n",
       "      <td>NaN</td>\n",
       "      <td>operating</td>\n",
       "      <td>GBR</td>\n",
       "      <td>H9</td>\n",
       "      <td>City Of London</td>\n",
       "      <td>City Of London</td>\n",
       "      <td>26-03-2015</td>\n",
       "    </tr>\n",
       "    <tr>\n",
       "      <th>39460</th>\n",
       "      <td>/organization/niutech-energy</td>\n",
       "      <td>niutech energy</td>\n",
       "      <td>http://www.niutech-energy.com</td>\n",
       "      <td>Clean Technology</td>\n",
       "      <td>operating</td>\n",
       "      <td>CHN</td>\n",
       "      <td>25</td>\n",
       "      <td>Jinan</td>\n",
       "      <td>Jinan</td>\n",
       "      <td>NaN</td>\n",
       "    </tr>\n",
       "    <tr>\n",
       "      <th>45176</th>\n",
       "      <td>/organization/printivo</td>\n",
       "      <td>printivo</td>\n",
       "      <td>http://www.printivo.com</td>\n",
       "      <td>Business Services|E-Commerce|Printing</td>\n",
       "      <td>operating</td>\n",
       "      <td>NGA</td>\n",
       "      <td>5</td>\n",
       "      <td>Lagos</td>\n",
       "      <td>Lagos</td>\n",
       "      <td>20-12-2013</td>\n",
       "    </tr>\n",
       "    <tr>\n",
       "      <th>46408</th>\n",
       "      <td>/organization/quat-e</td>\n",
       "      <td>quat-e</td>\n",
       "      <td>NaN</td>\n",
       "      <td>NaN</td>\n",
       "      <td>operating</td>\n",
       "      <td>NaN</td>\n",
       "      <td>NaN</td>\n",
       "      <td>NaN</td>\n",
       "      <td>NaN</td>\n",
       "      <td>NaN</td>\n",
       "    </tr>\n",
       "    <tr>\n",
       "      <th>49466</th>\n",
       "      <td>/organization/samplesaint</td>\n",
       "      <td>samplesaint</td>\n",
       "      <td>http://samplesaint.com</td>\n",
       "      <td>Mobile</td>\n",
       "      <td>operating</td>\n",
       "      <td>USA</td>\n",
       "      <td>IL</td>\n",
       "      <td>Chicago</td>\n",
       "      <td>Chicago</td>\n",
       "      <td>NaN</td>\n",
       "    </tr>\n",
       "    <tr>\n",
       "      <th>49467</th>\n",
       "      <td>/organization/samplify-systems</td>\n",
       "      <td>samplify systems</td>\n",
       "      <td>http://www.samplify.com</td>\n",
       "      <td>Semiconductors</td>\n",
       "      <td>operating</td>\n",
       "      <td>USA</td>\n",
       "      <td>CA</td>\n",
       "      <td>SF Bay Area</td>\n",
       "      <td>Santa Clara</td>\n",
       "      <td>01-01-2006</td>\n",
       "    </tr>\n",
       "    <tr>\n",
       "      <th>49468</th>\n",
       "      <td>/organization/sampling-technologies</td>\n",
       "      <td>sampling technologies</td>\n",
       "      <td>http://www.samplingtechnologies.com</td>\n",
       "      <td>Biotechnology</td>\n",
       "      <td>operating</td>\n",
       "      <td>CAN</td>\n",
       "      <td>NS</td>\n",
       "      <td>Halifax</td>\n",
       "      <td>Halifax</td>\n",
       "      <td>NaN</td>\n",
       "    </tr>\n",
       "    <tr>\n",
       "      <th>49945</th>\n",
       "      <td>/organization/scorechain</td>\n",
       "      <td>scorechain</td>\n",
       "      <td>https://www.scorechain.com/</td>\n",
       "      <td>Financial Services</td>\n",
       "      <td>operating</td>\n",
       "      <td>LUX</td>\n",
       "      <td>3</td>\n",
       "      <td>Esch-sur-alzette</td>\n",
       "      <td>Esch-sur-alzette</td>\n",
       "      <td>01-01-2015</td>\n",
       "    </tr>\n",
       "    <tr>\n",
       "      <th>50517</th>\n",
       "      <td>/organization/sendmail</td>\n",
       "      <td>sendmail</td>\n",
       "      <td>http://www.sendmail.com</td>\n",
       "      <td>Software</td>\n",
       "      <td>acquired</td>\n",
       "      <td>USA</td>\n",
       "      <td>CA</td>\n",
       "      <td>SF Bay Area</td>\n",
       "      <td>Emeryville</td>\n",
       "      <td>01-01-1998</td>\n",
       "    </tr>\n",
       "    <tr>\n",
       "      <th>51269</th>\n",
       "      <td>/organization/shopandbox</td>\n",
       "      <td>shopandbox</td>\n",
       "      <td>http://www.shopandbox.com/v2/</td>\n",
       "      <td>Consumers</td>\n",
       "      <td>operating</td>\n",
       "      <td>AUS</td>\n",
       "      <td>7</td>\n",
       "      <td>Melbourne</td>\n",
       "      <td>Melbourne</td>\n",
       "      <td>01-01-2013</td>\n",
       "    </tr>\n",
       "    <tr>\n",
       "      <th>51270</th>\n",
       "      <td>/organization/shopandsave</td>\n",
       "      <td>shopandsave</td>\n",
       "      <td>http://www.shopandsave.com</td>\n",
       "      <td>Classifieds|E-Commerce</td>\n",
       "      <td>closed</td>\n",
       "      <td>USA</td>\n",
       "      <td>SD</td>\n",
       "      <td>SD - Other</td>\n",
       "      <td>Toronto</td>\n",
       "      <td>02-04-2008</td>\n",
       "    </tr>\n",
       "    <tr>\n",
       "      <th>53537</th>\n",
       "      <td>/organization/souzhou-ribo-life-science</td>\n",
       "      <td>souzhou ribo life science</td>\n",
       "      <td>http://www.ribolia.com</td>\n",
       "      <td>Biotechnology</td>\n",
       "      <td>operating</td>\n",
       "      <td>CHN</td>\n",
       "      <td>1</td>\n",
       "      <td>Kunshan</td>\n",
       "      <td>Kunshan</td>\n",
       "      <td>NaN</td>\n",
       "    </tr>\n",
       "    <tr>\n",
       "      <th>54224</th>\n",
       "      <td>/organization/sprint-bioscience</td>\n",
       "      <td>sprint bioscience</td>\n",
       "      <td>http://www.sprintbioscience.com</td>\n",
       "      <td>Biotechnology</td>\n",
       "      <td>operating</td>\n",
       "      <td>SWE</td>\n",
       "      <td>26</td>\n",
       "      <td>Stockholm</td>\n",
       "      <td>Stockholm</td>\n",
       "      <td>28-09-2009</td>\n",
       "    </tr>\n",
       "    <tr>\n",
       "      <th>54379</th>\n",
       "      <td>/organization/stackify</td>\n",
       "      <td>stackify</td>\n",
       "      <td>http://stackify.com</td>\n",
       "      <td>Application Performance Monitoring|Cloud Compu...</td>\n",
       "      <td>operating</td>\n",
       "      <td>USA</td>\n",
       "      <td>KS</td>\n",
       "      <td>Kansas City</td>\n",
       "      <td>Leawood</td>\n",
       "      <td>15-01-2012</td>\n",
       "    </tr>\n",
       "    <tr>\n",
       "      <th>58473</th>\n",
       "      <td>/organization/tok3n</td>\n",
       "      <td>tok3n</td>\n",
       "      <td>http://www.tok3n.com/</td>\n",
       "      <td>Enterprise Security|Security|Web Development</td>\n",
       "      <td>closed</td>\n",
       "      <td>MEX</td>\n",
       "      <td>NaN</td>\n",
       "      <td>NaN</td>\n",
       "      <td>NaN</td>\n",
       "      <td>NaN</td>\n",
       "    </tr>\n",
       "    <tr>\n",
       "      <th>58474</th>\n",
       "      <td>/organization/tokai-pharmaceuticals</td>\n",
       "      <td>tokai pharmaceuticals</td>\n",
       "      <td>http://www.tokaipharma.com</td>\n",
       "      <td>Biotechnology</td>\n",
       "      <td>ipo</td>\n",
       "      <td>USA</td>\n",
       "      <td>MA</td>\n",
       "      <td>Boston</td>\n",
       "      <td>Cambridge</td>\n",
       "      <td>01-01-2004</td>\n",
       "    </tr>\n",
       "    <tr>\n",
       "      <th>60960</th>\n",
       "      <td>/organization/uya100</td>\n",
       "      <td>uya100</td>\n",
       "      <td>http://www.uya100.com</td>\n",
       "      <td>E-Commerce</td>\n",
       "      <td>operating</td>\n",
       "      <td>CHN</td>\n",
       "      <td>22</td>\n",
       "      <td>Beijing</td>\n",
       "      <td>Beijing</td>\n",
       "      <td>01-12-2010</td>\n",
       "    </tr>\n",
       "    <tr>\n",
       "      <th>62172</th>\n",
       "      <td>/organization/virtual-race-bags</td>\n",
       "      <td>virtual event bags</td>\n",
       "      <td>http://www.virtualeventbags.com/</td>\n",
       "      <td>Advertising|Social Media|Software</td>\n",
       "      <td>closed</td>\n",
       "      <td>USA</td>\n",
       "      <td>NC</td>\n",
       "      <td>Charlotte</td>\n",
       "      <td>Charlotte</td>\n",
       "      <td>01-11-2010</td>\n",
       "    </tr>\n",
       "  </tbody>\n",
       "</table>\n",
       "</div>"
      ],
      "text/plain": [
       "                                        permalink  \\\n",
       "729                      /organization/abizinabox   \n",
       "3166                  /organization/analyte-logic   \n",
       "4568   /organization/asic-engineering-corporation   \n",
       "8097                   /organization/boosterville   \n",
       "8652                      /organization/broadlane   \n",
       "9784                /organization/career-athletes   \n",
       "14798                      /organization/datanext   \n",
       "15384                     /organization/detectent   \n",
       "16018          /organization/dmc-consulting-group   \n",
       "16624                     /organization/dscovered   \n",
       "23210           /organization/global-talent-track   \n",
       "23518                  /organization/golden-spike   \n",
       "24932                       /organization/hc1-com   \n",
       "27110                  /organization/immunomedics   \n",
       "31863                        /organization/lecere   \n",
       "33069          /organization/logical-therapeutics   \n",
       "37562              /organization/my-artful-jewels   \n",
       "37876                  /organization/mysource-ltd   \n",
       "39460                /organization/niutech-energy   \n",
       "45176                      /organization/printivo   \n",
       "46408                        /organization/quat-e   \n",
       "49466                   /organization/samplesaint   \n",
       "49467              /organization/samplify-systems   \n",
       "49468         /organization/sampling-technologies   \n",
       "49945                    /organization/scorechain   \n",
       "50517                      /organization/sendmail   \n",
       "51269                    /organization/shopandbox   \n",
       "51270                   /organization/shopandsave   \n",
       "53537     /organization/souzhou-ribo-life-science   \n",
       "54224             /organization/sprint-bioscience   \n",
       "54379                      /organization/stackify   \n",
       "58473                         /organization/tok3n   \n",
       "58474         /organization/tokai-pharmaceuticals   \n",
       "60960                        /organization/uya100   \n",
       "62172             /organization/virtual-race-bags   \n",
       "\n",
       "                               name                         homepage_url  \\\n",
       "729                      abizinabox                http://abizinabox.com   \n",
       "3166                  analyte logic              http://analytelogic.com   \n",
       "4568   asic engineering corporation                                  NaN   \n",
       "8097                   boosterville          http://www.boosterville.com   \n",
       "8652                      broadlane                                  NaN   \n",
       "9784                athlete network            http://athletenetwork.com   \n",
       "14798               wealtharc, inc.             http://www.wealtharc.com   \n",
       "15384                     detectent             http://www.detectent.com   \n",
       "16018          dmc consulting group       http://dmcconsultinggroup.net/   \n",
       "16624                     dscovered                 http://dscovered.com   \n",
       "23210           global talent track            http://www.gttconnect.com   \n",
       "23518                  golden spike       http://goldenspikecompany.com/   \n",
       "24932                       hc1.com                   http://www.hc1.com   \n",
       "27110                  immunomedics              http://immunomedics.com   \n",
       "31863                        lecere                http://www.lecere.com   \n",
       "33069          logical therapeutics             http://www.logicaltx.com   \n",
       "37562              my artful jewels                                  NaN   \n",
       "37876                  mysource ltd               http://www.mysource.io   \n",
       "39460                niutech energy        http://www.niutech-energy.com   \n",
       "45176                      printivo              http://www.printivo.com   \n",
       "46408                        quat-e                                  NaN   \n",
       "49466                   samplesaint               http://samplesaint.com   \n",
       "49467              samplify systems              http://www.samplify.com   \n",
       "49468         sampling technologies  http://www.samplingtechnologies.com   \n",
       "49945                    scorechain          https://www.scorechain.com/   \n",
       "50517                      sendmail              http://www.sendmail.com   \n",
       "51269                    shopandbox        http://www.shopandbox.com/v2/   \n",
       "51270                   shopandsave           http://www.shopandsave.com   \n",
       "53537     souzhou ribo life science               http://www.ribolia.com   \n",
       "54224             sprint bioscience      http://www.sprintbioscience.com   \n",
       "54379                      stackify                  http://stackify.com   \n",
       "58473                         tok3n                http://www.tok3n.com/   \n",
       "58474         tokai pharmaceuticals           http://www.tokaipharma.com   \n",
       "60960                        uya100                http://www.uya100.com   \n",
       "62172            virtual event bags     http://www.virtualeventbags.com/   \n",
       "\n",
       "                                           category_list     status  \\\n",
       "729    Accounting|Consulting|CRM|Marketing Automation...  operating   \n",
       "3166                                       Biotechnology  operating   \n",
       "4568                          Engineering Firms|Services     closed   \n",
       "8097   K-12 Education|Mobile|Nonprofits|Payments|Soci...  operating   \n",
       "8652    Health and Wellness|Health Care|Medical|Services  operating   \n",
       "9784                            Brand Marketing|Internet  operating   \n",
       "14798  Artificial Intelligence|Big Data Analytics|Clo...  operating   \n",
       "15384                                          Analytics   acquired   \n",
       "16018                                         Networking  operating   \n",
       "16624                       Design|Internet|Marketplaces  operating   \n",
       "23210  Corporate Training|EdTech|Education|Informatio...  operating   \n",
       "23518                                          Aerospace  operating   \n",
       "24932                       Enterprise Software|Software  operating   \n",
       "27110                                      Biotechnology        ipo   \n",
       "31863                                           Software     closed   \n",
       "33069                                      Biotechnology  operating   \n",
       "37562                                                NaN  operating   \n",
       "37876                                                NaN  operating   \n",
       "39460                                   Clean Technology  operating   \n",
       "45176              Business Services|E-Commerce|Printing  operating   \n",
       "46408                                                NaN  operating   \n",
       "49466                                             Mobile  operating   \n",
       "49467                                     Semiconductors  operating   \n",
       "49468                                      Biotechnology  operating   \n",
       "49945                                 Financial Services  operating   \n",
       "50517                                           Software   acquired   \n",
       "51269                                          Consumers  operating   \n",
       "51270                             Classifieds|E-Commerce     closed   \n",
       "53537                                      Biotechnology  operating   \n",
       "54224                                      Biotechnology  operating   \n",
       "54379  Application Performance Monitoring|Cloud Compu...  operating   \n",
       "58473       Enterprise Security|Security|Web Development     closed   \n",
       "58474                                      Biotechnology        ipo   \n",
       "60960                                         E-Commerce  operating   \n",
       "62172                  Advertising|Social Media|Software     closed   \n",
       "\n",
       "      country_code state_code            region              city  founded_at  \n",
       "729            USA         IL           Chicago          Evanston  17-08-1998  \n",
       "3166           USA         CO            Denver            Denver  01-01-2008  \n",
       "4568           NaN        NaN               NaN               NaN         NaN  \n",
       "8097           USA         TN           Memphis           Memphis  15-03-2013  \n",
       "8652           NaN        NaN               NaN               NaN         NaN  \n",
       "9784           USA         KS       Kansas City       Kansas City  01-01-2014  \n",
       "14798          CHE         24       Steinhausen       Steinhausen  18-02-2015  \n",
       "15384          USA         CA         San Diego         Escondido         NaN  \n",
       "16018          USA         TX            Dallas            Dallas  11-11-2013  \n",
       "16624          USA         CA       Bakersfield   California City  01-01-2012  \n",
       "23210          IND         16              Pune              Pune  01-01-2008  \n",
       "23518          NaN        NaN               NaN               NaN         NaN  \n",
       "24932          USA         IN      Indianapolis      Indianapolis  01-01-2001  \n",
       "27110          USA         NJ            Newark     Morris Plains  01-07-1982  \n",
       "31863          USA         OR  Portland, Oregon          Portland         NaN  \n",
       "33069          USA         MA            Boston           Waltham  01-01-2005  \n",
       "37562          USA         LA       New Orleans           Slidell  01-05-2010  \n",
       "37876          GBR         H9    City Of London    City Of London  26-03-2015  \n",
       "39460          CHN         25             Jinan             Jinan         NaN  \n",
       "45176          NGA          5             Lagos             Lagos  20-12-2013  \n",
       "46408          NaN        NaN               NaN               NaN         NaN  \n",
       "49466          USA         IL           Chicago           Chicago         NaN  \n",
       "49467          USA         CA       SF Bay Area       Santa Clara  01-01-2006  \n",
       "49468          CAN         NS           Halifax           Halifax         NaN  \n",
       "49945          LUX          3  Esch-sur-alzette  Esch-sur-alzette  01-01-2015  \n",
       "50517          USA         CA       SF Bay Area        Emeryville  01-01-1998  \n",
       "51269          AUS          7         Melbourne         Melbourne  01-01-2013  \n",
       "51270          USA         SD        SD - Other           Toronto  02-04-2008  \n",
       "53537          CHN          1           Kunshan           Kunshan         NaN  \n",
       "54224          SWE         26         Stockholm         Stockholm  28-09-2009  \n",
       "54379          USA         KS       Kansas City           Leawood  15-01-2012  \n",
       "58473          MEX        NaN               NaN               NaN         NaN  \n",
       "58474          USA         MA            Boston         Cambridge  01-01-2004  \n",
       "60960          CHN         22           Beijing           Beijing  01-12-2010  \n",
       "62172          USA         NC         Charlotte         Charlotte  01-11-2010  "
      ]
     },
     "execution_count": 10,
     "metadata": {},
     "output_type": "execute_result"
    }
   ],
   "source": [
    "# Merge the two data frames so that all variables (columns) in the companies frame are added to the rounds2 data frame.\n",
    "companies.loc[~rounds.company_permalink.isin(companies.permalink)]"
   ]
  },
  {
   "cell_type": "code",
   "execution_count": 11,
   "metadata": {},
   "outputs": [],
   "source": [
    "# Name the merged frame master_frame.\n",
    "master_frame = pd.merge(rounds,companies, left_on=\"company_permalink\", right_on=\"permalink\", how='left')"
   ]
  },
  {
   "cell_type": "code",
   "execution_count": 12,
   "metadata": {},
   "outputs": [
    {
     "data": {
      "text/plain": [
       "(114949, 16)"
      ]
     },
     "execution_count": 12,
     "metadata": {},
     "output_type": "execute_result"
    }
   ],
   "source": [
    "# How many observations are present in master_frame ?\n",
    "master_frame.shape"
   ]
  },
  {
   "cell_type": "markdown",
   "metadata": {},
   "source": [
    "### Working only with the master frame."
   ]
  },
  {
   "cell_type": "code",
   "execution_count": 13,
   "metadata": {},
   "outputs": [],
   "source": [
    "# Creating a backup dataframe to calculate the percent of data removed from the dataframe\n",
    "master_frame_backup=master_frame.copy()"
   ]
  },
  {
   "cell_type": "code",
   "execution_count": 14,
   "metadata": {},
   "outputs": [],
   "source": [
    "# Removing those entries where status is closed \n",
    "master_frame = master_frame[master_frame['status']!='closed']"
   ]
  },
  {
   "cell_type": "code",
   "execution_count": 15,
   "metadata": {},
   "outputs": [],
   "source": [
    "# Removing the null value rows from the 'raised_amount_usd'\n",
    "master_frame = master_frame[pd.notnull(master_frame['raised_amount_usd'])]"
   ]
  },
  {
   "cell_type": "code",
   "execution_count": 16,
   "metadata": {},
   "outputs": [],
   "source": [
    "# Removing null value rows from the country code column. \n",
    "master_frame = master_frame[pd.notnull(master_frame['country_code'])]"
   ]
  },
  {
   "cell_type": "code",
   "execution_count": 17,
   "metadata": {},
   "outputs": [
    {
     "data": {
      "text/plain": [
       "(83264, 16)"
      ]
     },
     "execution_count": 17,
     "metadata": {},
     "output_type": "execute_result"
    }
   ],
   "source": [
    "# Observations are present in master_frame after filtering \n",
    "master_frame.shape"
   ]
  },
  {
   "cell_type": "code",
   "execution_count": 18,
   "metadata": {},
   "outputs": [
    {
     "data": {
      "text/plain": [
       "45276"
      ]
     },
     "execution_count": 18,
     "metadata": {},
     "output_type": "execute_result"
    }
   ],
   "source": [
    "# length of master_frame after filtering\n",
    "len(master_frame.name.unique())"
   ]
  },
  {
   "cell_type": "markdown",
   "metadata": {},
   "source": [
    "## Checkpoint 2: Funding Type Analysis"
   ]
  },
  {
   "cell_type": "code",
   "execution_count": 19,
   "metadata": {
    "scrolled": true
   },
   "outputs": [
    {
     "data": {
      "text/plain": [
       "funding_round_type\n",
       "angel                    9.947552e+05\n",
       "convertible_note         1.341018e+06\n",
       "debt_financing           1.789101e+07\n",
       "equity_crowdfunding      5.112600e+05\n",
       "grant                    4.290738e+06\n",
       "non_equity_assistance    4.605890e+05\n",
       "post_ipo_debt            1.754697e+08\n",
       "post_ipo_equity          6.709361e+07\n",
       "private_equity           7.579720e+07\n",
       "product_crowdfunding     1.521050e+06\n",
       "secondary_market         9.408940e+07\n",
       "seed                     7.631489e+05\n",
       "undisclosed              1.601821e+07\n",
       "venture                  1.190417e+07\n",
       "Name: raised_amount_usd, dtype: float64"
      ]
     },
     "execution_count": 19,
     "metadata": {},
     "output_type": "execute_result"
    }
   ],
   "source": [
    "# The investment amount for each of the four funding types (venture, angel, seed, and private equity) \n",
    "master_frame.groupby('funding_round_type')['raised_amount_usd'].mean()"
   ]
  },
  {
   "cell_type": "markdown",
   "metadata": {},
   "source": [
    "#### Table 2.1: Average Values of Investments for Each of these Funding Types \n",
    "\n",
    "\n",
    " ##### 1. Average funding amount of venture type\n",
    "    Answer:   1.190315e+07 / 11.90 Million Dollars\n",
    "\n",
    " \n",
    " \n",
    " ##### 2. Average funding amount of angel type\n",
    "    Answer:    9.947552e+05 / 0.99 Million Dollars\n",
    "    \n",
    " ##### 3. Average funding amount of seed type\n",
    "    Answer:    7.630973e+05 / 0.76 Million Dollars\n",
    "\n",
    " \n",
    " ##### 4. Average funding amount of private equity type\n",
    "    Answer:    7.579720e+07 / 75.80 Million Dollars\n",
    "\n",
    " \n",
    " ##### 5. Considering that Spark Funds wants to invest between 5 to 15 million USD per investment round, which investment type is the     most suitable for it?\n",
    "    Answer:    Venture Type \n",
    " "
   ]
  },
  {
   "cell_type": "code",
   "execution_count": 20,
   "metadata": {},
   "outputs": [
    {
     "data": {
      "text/plain": [
       "funding_round_type\n",
       "angel                    False\n",
       "convertible_note         False\n",
       "debt_financing           False\n",
       "equity_crowdfunding      False\n",
       "grant                    False\n",
       "non_equity_assistance    False\n",
       "post_ipo_debt            False\n",
       "post_ipo_equity          False\n",
       "private_equity           False\n",
       "product_crowdfunding     False\n",
       "secondary_market         False\n",
       "seed                     False\n",
       "undisclosed              False\n",
       "venture                   True\n",
       "Name: raised_amount_usd, dtype: bool"
      ]
     },
     "execution_count": 20,
     "metadata": {},
     "output_type": "execute_result"
    }
   ],
   "source": [
    "# Based on the most representative investment amount calculated above, which investment type do you think is the most suitable for Spark Funds?\n",
    "master_frame.groupby('funding_round_type')['raised_amount_usd'].mean().between(5.0e+06,15.0e+06,inclusive=True)"
   ]
  },
  {
   "cell_type": "markdown",
   "metadata": {},
   "source": [
    " ###   Answer : Hence proved that Venture type is the  best investment"
   ]
  },
  {
   "cell_type": "markdown",
   "metadata": {},
   "source": [
    "## Checkpoint 3: Country Analysis"
   ]
  },
  {
   "cell_type": "code",
   "execution_count": 21,
   "metadata": {},
   "outputs": [
    {
     "name": "stdout",
     "output_type": "stream",
     "text": [
      "     country_code  raised_amount_usd\n",
      "Rank                                \n",
      "1             USA       6.376939e+11\n",
      "2             CHN       7.469287e+10\n",
      "3             GBR       3.021650e+10\n",
      "4             IND       2.718051e+10\n",
      "5             CAN       1.651205e+10\n",
      "6             RUS       1.050578e+10\n",
      "7             DEU       9.709696e+09\n",
      "8             ISR       9.282365e+09\n",
      "9             FRA       8.368935e+09\n"
     ]
    }
   ],
   "source": [
    "# Spark Funds wants to see the  top nine countries which have received the highest total fundingrs (across ALL sectors for the chosen investment type)\n",
    "top9  = master_frame.groupby('country_code',as_index=False)['raised_amount_usd'].sum().sort_values(by = ['raised_amount_usd'],ascending=False).head(9)\n",
    "top9  ['Rank'] = range(1,10)\n",
    "top9 .set_index(['Rank'],inplace = True)\n",
    "print(top9 )"
   ]
  },
  {
   "cell_type": "markdown",
   "metadata": {},
   "source": [
    "### Table 3.1: Analysing the Top 3 English-Speaking Countries\n",
    "\n",
    "     1. Top English-speaking country        -       USA       \n",
    "     2. Second English-speaking country \t-       GBR\n",
    "     3. Third English-speaking country  \t-       IND\n"
   ]
  },
  {
   "cell_type": "markdown",
   "metadata": {},
   "source": [
    "## Checkpoint 4: Sector Analysis 1\n"
   ]
  },
  {
   "cell_type": "code",
   "execution_count": 22,
   "metadata": {},
   "outputs": [],
   "source": [
    "# Importing the mapping file \n",
    "mapping=pd.read_csv('mapping.csv')"
   ]
  },
  {
   "cell_type": "code",
   "execution_count": 23,
   "metadata": {},
   "outputs": [],
   "source": [
    "# Extract the primary sector of each category list from the category_list column\n",
    "pri_sector = master_frame['category_list'].str.split('|',n=1,expand=True)\n",
    "master_frame['Primary_Sector']=pri_sector[0]\n",
    "mapping['category_list']=mapping['category_list'].str.replace('0','NA')\n"
   ]
  },
  {
   "cell_type": "code",
   "execution_count": 24,
   "metadata": {},
   "outputs": [
    {
     "data": {
      "text/plain": [
       "Index(['category_list', 'Automotive & Sports', 'Blanks',\n",
       "       'Cleantech / Semiconductors', 'Entertainment', 'Health',\n",
       "       'Manufacturing', 'News, Search and Messaging', 'Others',\n",
       "       'Social, Finance, Analytics, Advertising'],\n",
       "      dtype='object')"
      ]
     },
     "execution_count": 24,
     "metadata": {},
     "output_type": "execute_result"
    }
   ],
   "source": [
    "mapping.columns"
   ]
  },
  {
   "cell_type": "code",
   "execution_count": 25,
   "metadata": {},
   "outputs": [],
   "source": [
    "#  Print all the column names\n",
    "massage=pd.melt(mapping,  id_vars=['category_list'],value_vars=['Automotive & Sports', 'Blanks',\n",
    "       'Cleantech / Semiconductors', 'Entertainment', 'Health',\n",
    "       'Manufacturing', 'News, Search and Messaging', 'Others',\n",
    "       'Social, Finance, Analytics, Advertising'])"
   ]
  },
  {
   "cell_type": "code",
   "execution_count": 26,
   "metadata": {},
   "outputs": [],
   "source": [
    "# Changing the column names\n",
    "massage=massage.rename(columns={'category_list':'Primary_Sector','variable':'main_sector'})"
   ]
  },
  {
   "cell_type": "code",
   "execution_count": 27,
   "metadata": {},
   "outputs": [],
   "source": [
    "# We need colums which is filled by 1\n",
    "massage=massage[massage.value==1]"
   ]
  },
  {
   "cell_type": "code",
   "execution_count": 28,
   "metadata": {},
   "outputs": [],
   "source": [
    "# Rest we can neglect by  Dropping .\n",
    "massage=massage.drop('value',axis=1)"
   ]
  },
  {
   "cell_type": "code",
   "execution_count": 29,
   "metadata": {},
   "outputs": [],
   "source": [
    "# Creating a merged Dataframe master_FT\n",
    "master_FT = pd.merge(master_frame,massage,on='Primary_Sector',how='inner')"
   ]
  },
  {
   "cell_type": "code",
   "execution_count": 30,
   "metadata": {},
   "outputs": [
    {
     "data": {
      "text/plain": [
       "main_sector\n",
       "Automotive & Sports                         1666\n",
       "Blanks                                       430\n",
       "Cleantech / Semiconductors                 13610\n",
       "Entertainment                               5522\n",
       "Health                                      6412\n",
       "Manufacturing                               5372\n",
       "News, Search and Messaging                 11229\n",
       "Others                                     18829\n",
       "Social, Finance, Analytics, Advertising    14056\n",
       "Name: main_sector, dtype: int64"
      ]
     },
     "execution_count": 30,
     "metadata": {},
     "output_type": "execute_result"
    }
   ],
   "source": [
    "# List of main sectors\n",
    "master_FT.groupby('main_sector').main_sector.count()"
   ]
  },
  {
   "cell_type": "code",
   "execution_count": 31,
   "metadata": {},
   "outputs": [],
   "source": [
    "# We are removing Blank main sectors\n",
    "master_FT=master_FT[master_FT.main_sector!='Blanks']"
   ]
  },
  {
   "cell_type": "code",
   "execution_count": 32,
   "metadata": {},
   "outputs": [
    {
     "data": {
      "text/plain": [
       "main_sector\n",
       "Automotive & Sports                         1666\n",
       "Cleantech / Semiconductors                 13610\n",
       "Entertainment                               5522\n",
       "Health                                      6412\n",
       "Manufacturing                               5372\n",
       "News, Search and Messaging                 11229\n",
       "Others                                     18829\n",
       "Social, Finance, Analytics, Advertising    14056\n",
       "Name: main_sector, dtype: int64"
      ]
     },
     "execution_count": 32,
     "metadata": {},
     "output_type": "execute_result"
    }
   ],
   "source": [
    "#Now there are 8 main sectors\n",
    "master_FT.groupby('main_sector').main_sector.count()"
   ]
  },
  {
   "cell_type": "markdown",
   "metadata": {},
   "source": [
    "## Checkpoint 5: Sector Analysis 2\n"
   ]
  },
  {
   "cell_type": "code",
   "execution_count": 33,
   "metadata": {},
   "outputs": [],
   "source": [
    "# Copying only those company details for which investemnts have been been between 5 to 15 milions\n",
    "master_FT_5_15M = master_FT[master_FT['raised_amount_usd'].between(5.0e+06,15.0e+06,inclusive=True)]"
   ]
  },
  {
   "cell_type": "code",
   "execution_count": 34,
   "metadata": {},
   "outputs": [],
   "source": [
    "# Creating D1, D2 and D3 Datarames\n",
    "D1 = master_FT_5_15M[master_FT_5_15M['country_code']=='USA']\n",
    "D1 = D1.assign(count_of_invest =D1.groupby('main_sector')['main_sector'].transform('count'))\n",
    "D1 = D1.assign(sum_of_invest =D1.groupby('main_sector')['raised_amount_usd'].transform('sum'))\n",
    "\n",
    "D2 = master_FT_5_15M[master_FT_5_15M['country_code']=='GBR']\n",
    "D2 = D2.assign(count_of_invest =D2.groupby('main_sector')['main_sector'].transform('count'))\n",
    "D2 = D2.assign(sum_of_invest =D2.groupby('main_sector')['raised_amount_usd'].transform('sum'))\n",
    "\n",
    "D3 = master_FT_5_15M[master_FT_5_15M['country_code']=='IND']\n",
    "D3 = D3.assign(count_of_invest =D3.groupby('main_sector')['main_sector'].transform('count'))\n",
    "D3 = D3.assign(sum_of_invest =D3.groupby('main_sector')['raised_amount_usd'].transform('sum'))"
   ]
  },
  {
   "cell_type": "markdown",
   "metadata": {},
   "source": [
    "### 1.Total number of investments (count)"
   ]
  },
  {
   "cell_type": "code",
   "execution_count": 35,
   "metadata": {},
   "outputs": [
    {
     "data": {
      "text/plain": [
       "11844"
      ]
     },
     "execution_count": 35,
     "metadata": {},
     "output_type": "execute_result"
    }
   ],
   "source": [
    "# Country 1\n",
    "D1.shape[0]\n",
    "\n",
    "\n"
   ]
  },
  {
   "cell_type": "code",
   "execution_count": 36,
   "metadata": {},
   "outputs": [
    {
     "data": {
      "text/plain": [
       "658"
      ]
     },
     "execution_count": 36,
     "metadata": {},
     "output_type": "execute_result"
    }
   ],
   "source": [
    "# Country 2\n",
    "D2.shape[0]\n",
    "\n"
   ]
  },
  {
   "cell_type": "code",
   "execution_count": 37,
   "metadata": {},
   "outputs": [
    {
     "data": {
      "text/plain": [
       "299"
      ]
     },
     "execution_count": 37,
     "metadata": {},
     "output_type": "execute_result"
    }
   ],
   "source": [
    "# Country 3\n",
    "D3.shape[0]"
   ]
  },
  {
   "cell_type": "markdown",
   "metadata": {},
   "source": [
    "### 2. Total amount of investment (USD)"
   ]
  },
  {
   "cell_type": "code",
   "execution_count": 38,
   "metadata": {},
   "outputs": [
    {
     "data": {
      "text/plain": [
       "105259690482.0"
      ]
     },
     "execution_count": 38,
     "metadata": {},
     "output_type": "execute_result"
    }
   ],
   "source": [
    "# Country 1\n",
    "D1.raised_amount_usd.sum()"
   ]
  },
  {
   "cell_type": "code",
   "execution_count": 39,
   "metadata": {},
   "outputs": [
    {
     "data": {
      "text/plain": [
       "5699801756.0"
      ]
     },
     "execution_count": 39,
     "metadata": {},
     "output_type": "execute_result"
    }
   ],
   "source": [
    "# Country 2\n",
    "D2.raised_amount_usd.sum()"
   ]
  },
  {
   "cell_type": "code",
   "execution_count": 40,
   "metadata": {},
   "outputs": [
    {
     "data": {
      "text/plain": [
       "2661767552.0"
      ]
     },
     "execution_count": 40,
     "metadata": {},
     "output_type": "execute_result"
    }
   ],
   "source": [
    "# Country 3\n",
    "D3.raised_amount_usd.sum()"
   ]
  },
  {
   "cell_type": "markdown",
   "metadata": {},
   "source": [
    "### 3. Top sector (based on count of investments)"
   ]
  },
  {
   "cell_type": "code",
   "execution_count": 41,
   "metadata": {},
   "outputs": [
    {
     "data": {
      "text/plain": [
       "'Others'"
      ]
     },
     "execution_count": 41,
     "metadata": {},
     "output_type": "execute_result"
    }
   ],
   "source": [
    "#Country 1\n",
    "top_sector_D1=D1.groupby('main_sector')['main_sector'].count().sort_values(ascending=False).nlargest(3).index[0]\n",
    "top_sector_D1"
   ]
  },
  {
   "cell_type": "code",
   "execution_count": 42,
   "metadata": {},
   "outputs": [
    {
     "data": {
      "text/plain": [
       "'Others'"
      ]
     },
     "execution_count": 42,
     "metadata": {},
     "output_type": "execute_result"
    }
   ],
   "source": [
    "#Country 2\n",
    "top_sector_D2=D2.groupby('main_sector')['main_sector'].count().sort_values(ascending=False).nlargest(3).index[0]\n",
    "top_sector_D2"
   ]
  },
  {
   "cell_type": "code",
   "execution_count": 43,
   "metadata": {},
   "outputs": [
    {
     "data": {
      "text/plain": [
       "'Others'"
      ]
     },
     "execution_count": 43,
     "metadata": {},
     "output_type": "execute_result"
    }
   ],
   "source": [
    "# Country 3\n",
    "top_sector_D3=D3.groupby('main_sector')['main_sector'].count().sort_values(ascending=False).nlargest(3).index[0]\n",
    "top_sector_D3"
   ]
  },
  {
   "cell_type": "markdown",
   "metadata": {},
   "source": [
    "### 4.Second-best sector (based on count of investments)"
   ]
  },
  {
   "cell_type": "code",
   "execution_count": 44,
   "metadata": {},
   "outputs": [
    {
     "data": {
      "text/plain": [
       "'Cleantech / Semiconductors'"
      ]
     },
     "execution_count": 44,
     "metadata": {},
     "output_type": "execute_result"
    }
   ],
   "source": [
    "#Country 1\n",
    "sec_best_D1=D1.groupby('main_sector')['main_sector'].count().sort_values(ascending=False).nlargest(3).index[1]\n",
    "sec_best_D1"
   ]
  },
  {
   "cell_type": "code",
   "execution_count": 45,
   "metadata": {},
   "outputs": [
    {
     "data": {
      "text/plain": [
       "'Cleantech / Semiconductors'"
      ]
     },
     "execution_count": 45,
     "metadata": {},
     "output_type": "execute_result"
    }
   ],
   "source": [
    "# Country 2\n",
    "sec_best_D2=D2.groupby('main_sector')['main_sector'].count().sort_values(ascending=False).nlargest(3).index[1]\n",
    "sec_best_D2"
   ]
  },
  {
   "cell_type": "code",
   "execution_count": 46,
   "metadata": {},
   "outputs": [
    {
     "data": {
      "text/plain": [
       "'News, Search and Messaging'"
      ]
     },
     "execution_count": 46,
     "metadata": {},
     "output_type": "execute_result"
    }
   ],
   "source": [
    "# Country 3\n",
    "sec_best_D3=D3.groupby('main_sector')['main_sector'].count().sort_values(ascending=False).nlargest(3).index[1]\n",
    "sec_best_D3"
   ]
  },
  {
   "cell_type": "markdown",
   "metadata": {},
   "source": [
    "### 5.Third-best sector (based on count of investments)"
   ]
  },
  {
   "cell_type": "code",
   "execution_count": 47,
   "metadata": {},
   "outputs": [
    {
     "data": {
      "text/plain": [
       "'Social, Finance, Analytics, Advertising'"
      ]
     },
     "execution_count": 47,
     "metadata": {},
     "output_type": "execute_result"
    }
   ],
   "source": [
    "#Country 1\n",
    "third_best_D1=D1.groupby('main_sector')['main_sector'].count().sort_values(ascending=False).nlargest(3).index[2]\n",
    "third_best_D1"
   ]
  },
  {
   "cell_type": "code",
   "execution_count": 48,
   "metadata": {},
   "outputs": [
    {
     "data": {
      "text/plain": [
       "'Social, Finance, Analytics, Advertising'"
      ]
     },
     "execution_count": 48,
     "metadata": {},
     "output_type": "execute_result"
    }
   ],
   "source": [
    "# Country 2\n",
    "third_best_D2=D2.groupby('main_sector')['main_sector'].count().sort_values(ascending=False).nlargest(3).index[2]\n",
    "third_best_D2"
   ]
  },
  {
   "cell_type": "code",
   "execution_count": 49,
   "metadata": {},
   "outputs": [
    {
     "data": {
      "text/plain": [
       "'Social, Finance, Analytics, Advertising'"
      ]
     },
     "execution_count": 49,
     "metadata": {},
     "output_type": "execute_result"
    }
   ],
   "source": [
    "# Country 3\n",
    "third_best_D3=D3.groupby('main_sector')['main_sector'].count().sort_values(ascending=False).nlargest(3).index[2]\n",
    "third_best_D3"
   ]
  },
  {
   "cell_type": "markdown",
   "metadata": {},
   "source": [
    "### 6. Number of investments in the top sector (refer to point 3)"
   ]
  },
  {
   "cell_type": "code",
   "execution_count": 50,
   "metadata": {},
   "outputs": [
    {
     "data": {
      "text/plain": [
       "3065"
      ]
     },
     "execution_count": 50,
     "metadata": {},
     "output_type": "execute_result"
    }
   ],
   "source": [
    "# Country 1\n",
    "D1[D1.main_sector == top_sector_D1].shape[0]"
   ]
  },
  {
   "cell_type": "code",
   "execution_count": 51,
   "metadata": {},
   "outputs": [
    {
     "data": {
      "text/plain": [
       "162"
      ]
     },
     "execution_count": 51,
     "metadata": {},
     "output_type": "execute_result"
    }
   ],
   "source": [
    "# Country 2\n",
    "D2[D2.main_sector == top_sector_D2].shape[0]"
   ]
  },
  {
   "cell_type": "code",
   "execution_count": 52,
   "metadata": {},
   "outputs": [
    {
     "data": {
      "text/plain": [
       "107"
      ]
     },
     "execution_count": 52,
     "metadata": {},
     "output_type": "execute_result"
    }
   ],
   "source": [
    "# Country 3\n",
    "D3[D3.main_sector == top_sector_D3].shape[0]"
   ]
  },
  {
   "cell_type": "markdown",
   "metadata": {},
   "source": [
    "### 7. Number of investments in the second-best sector (refer to point 4)"
   ]
  },
  {
   "cell_type": "code",
   "execution_count": 53,
   "metadata": {},
   "outputs": [
    {
     "data": {
      "text/plain": [
       "2609"
      ]
     },
     "execution_count": 53,
     "metadata": {},
     "output_type": "execute_result"
    }
   ],
   "source": [
    "# Country 1\n",
    "D1[D1.main_sector == sec_best_D1].shape[0]"
   ]
  },
  {
   "cell_type": "code",
   "execution_count": 54,
   "metadata": {},
   "outputs": [
    {
     "data": {
      "text/plain": [
       "144"
      ]
     },
     "execution_count": 54,
     "metadata": {},
     "output_type": "execute_result"
    }
   ],
   "source": [
    "# Country 2\n",
    "D2[D2.main_sector == sec_best_D2].shape[0]"
   ]
  },
  {
   "cell_type": "code",
   "execution_count": 55,
   "metadata": {},
   "outputs": [
    {
     "data": {
      "text/plain": [
       "50"
      ]
     },
     "execution_count": 55,
     "metadata": {},
     "output_type": "execute_result"
    }
   ],
   "source": [
    "# Country 3\n",
    "D3[D3.main_sector == sec_best_D3].shape[0]"
   ]
  },
  {
   "cell_type": "markdown",
   "metadata": {},
   "source": [
    "### 8.Number of investments in the third-best sector (refer to point 5)"
   ]
  },
  {
   "cell_type": "code",
   "execution_count": 56,
   "metadata": {},
   "outputs": [
    {
     "data": {
      "text/plain": [
       "1979"
      ]
     },
     "execution_count": 56,
     "metadata": {},
     "output_type": "execute_result"
    }
   ],
   "source": [
    "# Country 1\n",
    "D1[D1.main_sector == third_best_D1].shape[0]"
   ]
  },
  {
   "cell_type": "code",
   "execution_count": 57,
   "metadata": {},
   "outputs": [
    {
     "data": {
      "text/plain": [
       "106"
      ]
     },
     "execution_count": 57,
     "metadata": {},
     "output_type": "execute_result"
    }
   ],
   "source": [
    "# Country 2\n",
    "D2[D2.main_sector == third_best_D2].shape[0]"
   ]
  },
  {
   "cell_type": "code",
   "execution_count": 58,
   "metadata": {},
   "outputs": [
    {
     "data": {
      "text/plain": [
       "34"
      ]
     },
     "execution_count": 58,
     "metadata": {},
     "output_type": "execute_result"
    }
   ],
   "source": [
    "# Country 3\n",
    "D3[D3.main_sector == third_best_D3].shape[0]"
   ]
  },
  {
   "cell_type": "markdown",
   "metadata": {},
   "source": [
    "### 9. For the top sector count-wise (point 3), which company received the highest investment?"
   ]
  },
  {
   "cell_type": "code",
   "execution_count": 59,
   "metadata": {},
   "outputs": [
    {
     "data": {
      "text/plain": [
       "'1stdibs'"
      ]
     },
     "execution_count": 59,
     "metadata": {},
     "output_type": "execute_result"
    }
   ],
   "source": [
    "# Country 1\n",
    "D1[D1.main_sector == top_sector_D1].sort_values(by = 'raised_amount_usd', ascending = False).head(1)['name'].values[0]"
   ]
  },
  {
   "cell_type": "code",
   "execution_count": 60,
   "metadata": {},
   "outputs": [
    {
     "data": {
      "text/plain": [
       "'notonthehighstreet'"
      ]
     },
     "execution_count": 60,
     "metadata": {},
     "output_type": "execute_result"
    }
   ],
   "source": [
    "# Country 2\n",
    "D2[D2.main_sector == top_sector_D2].sort_values(by = 'raised_amount_usd', ascending = False).head(1)['name'].values[0]"
   ]
  },
  {
   "cell_type": "code",
   "execution_count": 61,
   "metadata": {},
   "outputs": [
    {
     "data": {
      "text/plain": [
       "'limeroad'"
      ]
     },
     "execution_count": 61,
     "metadata": {},
     "output_type": "execute_result"
    }
   ],
   "source": [
    "# Country 3\n",
    "\n",
    "D3[D3.main_sector == top_sector_D3].sort_values(by = 'raised_amount_usd', ascending= False).head(1)['name'].values[0]"
   ]
  },
  {
   "cell_type": "markdown",
   "metadata": {},
   "source": [
    "###  10.For the second-best sector count-wise (point 4), which company received the highest investment?"
   ]
  },
  {
   "cell_type": "code",
   "execution_count": 62,
   "metadata": {},
   "outputs": [
    {
     "data": {
      "text/plain": [
       "'sunverge energy, inc'"
      ]
     },
     "execution_count": 62,
     "metadata": {},
     "output_type": "execute_result"
    }
   ],
   "source": [
    "# Country 1\n",
    "D1[D1.main_sector == sec_best_D1].sort_values(by = 'raised_amount_usd', ascending = False).head(1)['name'].values[0]"
   ]
  },
  {
   "cell_type": "code",
   "execution_count": 63,
   "metadata": {},
   "outputs": [
    {
     "data": {
      "text/plain": [
       "'elixent'"
      ]
     },
     "execution_count": 63,
     "metadata": {},
     "output_type": "execute_result"
    }
   ],
   "source": [
    "# Country 2\n",
    "D2[D2.main_sector == sec_best_D2].sort_values(by = 'raised_amount_usd', ascending = False).head(1)['name'].values[0]"
   ]
  },
  {
   "cell_type": "code",
   "execution_count": 64,
   "metadata": {},
   "outputs": [
    {
     "data": {
      "text/plain": [
       "'mobile2win india'"
      ]
     },
     "execution_count": 64,
     "metadata": {},
     "output_type": "execute_result"
    }
   ],
   "source": [
    "# Country 3\n",
    "D3[D3.main_sector == sec_best_D3].sort_values(by = 'raised_amount_usd', ascending = False).head(1)['name'].values[0]"
   ]
  },
  {
   "cell_type": "markdown",
   "metadata": {},
   "source": [
    "## Checkpoint 6: Plots\n"
   ]
  },
  {
   "cell_type": "code",
   "execution_count": 65,
   "metadata": {},
   "outputs": [],
   "source": [
    "master_frame.to_csv('master_frame.csv')"
   ]
  },
  {
   "cell_type": "code",
   "execution_count": 66,
   "metadata": {},
   "outputs": [],
   "source": [
    "top9.to_csv('top9.csv')"
   ]
  },
  {
   "cell_type": "code",
   "execution_count": 67,
   "metadata": {},
   "outputs": [],
   "source": [
    "D1.to_csv('D1.csv')\n",
    "D2.to_csv('D2.csv')\n",
    "D3.to_csv('D3.csv')"
   ]
  },
  {
   "cell_type": "code",
   "execution_count": 68,
   "metadata": {},
   "outputs": [],
   "source": [
    "master_FT = master_FT[master_FT['funding_round_type'].isin(['venture','seed','angel','private_equity'])]"
   ]
  },
  {
   "cell_type": "code",
   "execution_count": 69,
   "metadata": {},
   "outputs": [
    {
     "data": {
      "image/png": "[encoded data removed]",
      "text/plain": [
       "<Figure size 720x360 with 1 Axes>"
      ]
     },
     "metadata": {},
     "output_type": "display_data"
    }
   ],
   "source": [
    "sns.set(style = 'whitegrid')\n",
    "plt.figure(figsize=(10,5))\n",
    "fig = sns.barplot(x='funding_round_type' ,y='raised_amount_usd' ,data =master_FT)\n",
    "plt.show()"
   ]
  },
  {
   "cell_type": "code",
   "execution_count": 70,
   "metadata": {
    "scrolled": true
   },
   "outputs": [
    {
     "data": {
      "image/png": "[encoded data removed]",
      "text/plain": [
       "<Figure size 432x288 with 1 Axes>"
      ]
     },
     "metadata": {},
     "output_type": "display_data"
    }
   ],
   "source": [
    "plot2 = sns.barplot(x='country_code' ,y='raised_amount_usd' , data = top9)\n",
    "plt.show()"
   ]
  },
  {
   "cell_type": "code",
   "execution_count": 71,
   "metadata": {},
   "outputs": [],
   "source": [
    "plot3 = D1[D1['main_sector'].isin(['Others','Cleantech / Semiconductors','Social, Finance, Analytics, Advertising'])]\n",
    "plot3 = plot3.append(D2[D2['main_sector'].isin(['Others','Cleantech / Semiconductors','Social, Finance, Analytics, Advertising'])], ignore_index=True)\n",
    "plot3 = plot3.append(D3[D3['main_sector'].isin(['Others','News, Search and Messaging','Social, Finance, Analytics, Advertising'])],ignore_index=True)\n"
   ]
  },
  {
   "cell_type": "code",
   "execution_count": 72,
   "metadata": {},
   "outputs": [
    {
     "data": {
      "image/png": "[encoded data removed]",
      "text/plain": [
       "<Figure size 720x360 with 1 Axes>"
      ]
     },
     "metadata": {},
     "output_type": "display_data"
    }
   ],
   "source": [
    "plt.figure(figsize=(10,5))\n",
    "fig2 = sns.barplot(x='country_code', y = 'raised_amount_usd', hue='main_sector',data = plot3, estimator = lambda x: len(x))\n",
    "fig2.set(ylabel = 'raised_amount_usd' )\n",
    "plt.show()"
   ]
  },
  {
   "cell_type": "code",
   "execution_count": null,
   "metadata": {},
   "outputs": [],
   "source": []
  }
 ],
 "metadata": {
  "kernelspec": {
   "display_name": "Python 3",
   "language": "python",
   "name": "python3"
  },
  "language_info": {
   "codemirror_mode": {
    "name": "ipython",
    "version": 3
   },
   "file_extension": ".py",
   "mimetype": "text/x-python",
   "name": "python",
   "nbconvert_exporter": "python",
   "pygments_lexer": "ipython3",
   "version": "3.7.3"
  }
 },
 "nbformat": 4,
 "nbformat_minor": 2
}
